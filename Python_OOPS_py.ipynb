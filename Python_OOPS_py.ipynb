{
  "nbformat": 4,
  "nbformat_minor": 0,
  "metadata": {
    "colab": {
      "provenance": []
    },
    "kernelspec": {
      "name": "python3",
      "display_name": "Python 3"
    },
    "language_info": {
      "name": "python"
    }
  },
  "cells": [
    {
      "cell_type": "markdown",
      "source": [
        "## Python OOPS\n",
        "1. What is Object-Oriented Programming (OOP)?\n",
        "\n",
        "Object-Oriented Programming (OOP): OOP is a programming paradigm that uses \"objects\" to represent data and methods to manipulate that data. It focuses on using classes to create reusable code and models real-world entities, allowing for easier maintenance and scalability.\n",
        "\n",
        "2.What is a class in OOP?\n",
        "\n",
        "Class in OOP: A class is a blueprint for creating objects. It defines a set of attributes and methods that the created objects (instances) will have. For example, if you have a class called Car, it might have attributes like color and model, and methods like drive() and stop().\n",
        "\n",
        "3.What is an object in OOP?\n",
        "\n",
        "Object in OOP: An object is an instance of a class. When we create an object from a class, we are essentially creating a specific realization of that class's blueprint. For instance, if Car is a class, then my_car = Car() creates an object named my_car that represents a specific car.\n",
        "\n",
        "4.What is the difference between abstraction and encapsulation?\n",
        "\n",
        " Abstraction is the concept of hiding the complex implementation details and showing only the essential features of an object. It helps reduce complexity by allowing the user to interact with the object without needing to understand all of its inner workings.\n",
        "- Encapsulation is the bundling of data (attributes) and methods (functions) that operate on the data into a single unit or class. It restricts direct access to some of the object's components, which can prevent unintended interference and misuse.\n",
        "\n",
        "5.What are dunder methods in Python?\n",
        "\n",
        " Dunder Methods in Python: Dunder methods, or \"double underscore\" methods, are special methods in Python that start and end with double underscores (e.g., __init__, __str__). They are used to define how objects behave with built-in functions and operators. For example, __init__ is used for initializing an object, while __str__ defines how the object is represented as a string.\n",
        "\n",
        "6.Explain the concept of inheritance in OOP.\n",
        "\n",
        " Inheritance in OOP: Inheritance is a mechanism that allows one class (the child or derived class) to inherit attributes and methods from another class (the parent or base class). This promotes code reuse. For example, if we have a class Vehicle, a class Car can inherit from Vehicle, gaining its properties and behaviors.\n",
        "\n",
        " 7.What is polymorphism in OOP?\n",
        "\n",
        " Polymorphism allows objects of different classes to be treated as objects of a common superclass. It means \"many forms\" and enables a single interface to represent different underlying forms (data types). For instance, if both Dog and Cat classes have a method make_sound(), we can call this method on both objects without knowing their specific types.\n",
        "\n",
        " 8.How is encapsulation achieved in Python?\n",
        "\n",
        " Encapsulation is achieved in Python using private and protected access modifiers. we can define a private attribute by prefixing it with two underscores (e.g., __attribute). This restricts access to the attribute from outside the class, promoting data hiding.\n",
        "\n",
        " 9.What is a constructor in Python?\n",
        "\n",
        " A constructor is a special method called when an object is created. In Python, the constructor is defined using the __init__ method. It initializes the object's attributes. For example:\n",
        "   \n",
        "   class Car:\n",
        "       def __init__(self, color, model):\n",
        "\n",
        "           self.color = color\n",
        "           self.model = model\n",
        "10.What are class and static methods in Python?\n",
        "\n",
        "Class methods are methods that are bound to the class and not the instance of the class. They are defined using the @classmethod decorator and take cls as the first parameter. They can modify class state that applies across all instances.\n",
        "\n",
        " Static methods are methods that do not modify class or instance state. They are defined using the @staticmethod decorator and do not take self or cls as parameters. They behave like regular functions but belong to the class namespace.\n",
        "\n",
        " 11.What is method overloading in Python\n",
        "\n",
        " Method overloading in Python refers to the ability to define multiple methods with the same name but different parameters within a class. However, Python does not support method overloading in the traditional sense like some other languages (e.g., Java or C++). Instead, we can achieve similar functionality by using default arguments or variable-length arguments (*args and **kwargs) to handle different input scenarios within a single method.\n",
        "\n",
        "12.What is method overriding in OOP?\n",
        "\n",
        "  Method overriding in OOP occurs when a subclass provides a specific implementation of a method that is already defined in its superclass. The method in the subclass has the same name and parameters as the one in the superclass. This allows the subclass to customize or extend the behavior of the inherited method.\n",
        "  \n",
        "13.What is a property decorator in Python?\n",
        "\n",
        " A property decorator in Python is used to define a method as a property, allowing to manage the access to an attribute. This is done using the @property decorator, which allows  to define getter, setter, and deleter methods for an attribute while using it as if it were a simple attribute. This encapsulation helps in controlling how the attribute is accessed and modified.\n",
        "\n",
        " 14.Why is polymorphism important in OOP?\n",
        "\n",
        " Polymorphism is important in OOP because it allows objects of different classes to be treated as objects of a common superclass. This means that a single function or method can work on different types of objects, enhancing flexibility and making the code more reusable and easier to maintain. It promotes the use of a common interface for different implementations.\n",
        "\n",
        "15.What is an abstract class in Python?\n",
        "\n",
        " An abstract class in Python is a class that cannot be instantiated on its own and is meant to be subclassed. It can contain abstract methods (methods without implementation) that must be implemented by any subclass. Abstract classes are defined using the abc module and are useful for defining a common interface for a group of related classes.\n",
        "\n",
        "16.What are the advantages of OOP\n",
        "\n",
        "The advantages of OOP include:\n",
        "   - Encapsulation: Bundling data and methods that operate on that data within a single unit (class).\n",
        "   - Inheritance: Allowing new classes to inherit properties and methods from existing classes, promoting code reuse.\n",
        "   - Polymorphism: Enabling one interface to be used for different underlying forms (data types).\n",
        "   - Abstraction: Hiding complex implementation details and exposing only the necessary parts of an object.\n",
        "\n",
        "17.What is the difference between a class variable and an instance variable\n",
        "\n",
        "A class variable is a variable that is shared among all instances of a class. It is defined within the class but outside any instance methods. An instance variable, on the other hand, is a variable that is specific to an instance of a class. It is defined within instance methods and is accessed using the self keyword.\n",
        "\n",
        "18.What is multiple inheritance in Python\n",
        "\n",
        "Multiple inheritance in Python allows a class to inherit attributes and methods from more than one parent class. This feature enables greater flexibility in designing classes but can also lead to complexity, particularly with the \"diamond problem,\" where an ambiguity arises if two parent classes define the same method.\n",
        "\n",
        "19.Explain the purpose of ‘’__str__’ and ‘__repr__’ ‘ methods in Python\n",
        "\n",
        "The __str__ method in Python is used to define a string representation of an object that is user-friendly and readable. It is called by the print() function and str() method. The __repr__ method is intended to provide an unambiguous representation of the object, which can ideally be used to recreate the object. It is called by the repr() function and is useful for debugging.\n",
        "\n",
        "20.What is the significance of the ‘super()’ function in Python\n",
        "\n",
        "The super() function in Python is used to call methods from a parent class in a subclass. It allows you to access inherited methods that have been overridden in the subclass. This is particularly useful in multiple inheritance scenarios to ensure that the correct method resolution order is followed.\n",
        "\n",
        "\n",
        "21.What is the significance of the __del__ method in Python\n",
        "\n",
        "The __del__ method in Python is a destructor method that is called when an object is about to be destroyed. It can be used to perform cleanup actions, such as closing files or releasing resources. However, its use is generally discouraged because the timing of its invocation is not guaranteed, especially in the presence of circular references.\n",
        "\n",
        "22.What is the difference between @staticmethod and @classmethod in Python\n",
        "\n",
        "The @staticmethod decorator is used to define a method that does not require access to the instance (self) or class (cls). It behaves like a regular function that belongs to the class's namespace. The @classmethod decorator, on the other hand, defines a method that receives the class (cls) as its first argument and can access class variables and methods. This is useful for factory methods or methods that need to modify class state.\n",
        "\n",
        "23.How does polymorphism work in Python with inheritance\n",
        "\n",
        " Polymorphism in Python with inheritance works by allowing subclasses to define methods that have the same name as methods in their superclass. When a method is called on an object, Python looks up the method in the object's class, allowing different subclasses to provide their own implementations. This allows for flexible and interchangeable code.\n",
        "\n",
        "\n",
        "24.What is method chaining in Python OOP\n",
        "\n",
        "Method chaining in Python OOP refers to the practice of calling multiple methods on the same object in a single statement. This is achieved by having methods return the object itself (usually self) after performing their operations. This allows for a more concise and readable code structure.\n",
        "\n",
        "25.What is the purpose of the __call__ method in Python?\n",
        "\n",
        "The __call__ method allows an instance of a class to be called like a function.It enables objects to encapsulate the behaviour and state, making them more flexible. When an instance is called , the __call__ metjhod executes, allowing custom functionality to be defined. e.g\n",
        "     class Multiplier:\n",
        "     def __init__(self,factor):\n",
        "     self.factor=factor\n",
        "     def __call__(self,number):\n",
        "     return number*self.factor\n",
        "\n",
        "     mul=Multiplier(5)\n",
        "     result=mul(6)\n",
        "     print(result)"
      ],
      "metadata": {
        "id": "HsDEFBOWtdWa"
      }
    },
    {
      "cell_type": "markdown",
      "source": [
        "##Practical Questions"
      ],
      "metadata": {
        "id": "7CZ-NR9YDo5n"
      }
    },
    {
      "cell_type": "code",
      "source": [
        "#Create a parent class Animal with a method speak() that prints a generic message. Create a child class Dog\n",
        "#that overrides the speak() method to print \"Bark!\".\n",
        "class Animal:\n",
        "    def speak(self):\n",
        "        print(\"The animal makes a sound\")\n",
        "\n",
        "class Dog:\n",
        "    def speak(self):\n",
        "        print(\"Bark!\")\n",
        "animal = Animal()\n",
        "dog = Dog()\n",
        "animal.speak()\n",
        "dog.speak()\n",
        "\n"
      ],
      "metadata": {
        "colab": {
          "base_uri": "https://localhost:8080/"
        },
        "id": "h9ZHF7k9NU_V",
        "outputId": "84bcbce9-89e1-420c-cdb6-3b3bbe507a72"
      },
      "execution_count": null,
      "outputs": [
        {
          "output_type": "stream",
          "name": "stdout",
          "text": [
            "The animal makes a sound\n",
            "Bark!\n"
          ]
        }
      ]
    },
    {
      "cell_type": "code",
      "source": [
        "# Write a program to create an abstract class Shape with a method area(). Derive classes Circle and Rectangle\n",
        "#from it and implement the area() method in both.\n",
        "class Shape:\n",
        "    def area(self):\n",
        "        return \"Area method must be implemented in subclasses\"\n",
        "class Circle(Shape):\n",
        "    def __init__(self, radius):\n",
        "        self.radius = radius\n",
        "\n",
        "    def area(self):\n",
        "        return 3.14 * self.radius * self.radius\n",
        "class Rectangle(Shape):\n",
        "    def __init__(self, length, width):\n",
        "        self.length = length\n",
        "        self.width = width\n",
        "\n",
        "    def area(self):\n",
        "        return self.length * self.width\n",
        "\n",
        "cir = Circle(5)\n",
        "rect = Rectangle(4, 6)\n",
        "print(\"Circle Area:\", cir.area())\n",
        "print(\"Rectangle Area:\", rect.area())\n"
      ],
      "metadata": {
        "colab": {
          "base_uri": "https://localhost:8080/"
        },
        "id": "PCmGLeqHPgiE",
        "outputId": "c76a6ff7-cbec-4853-a0f5-4ecf8f2225e1"
      },
      "execution_count": null,
      "outputs": [
        {
          "output_type": "stream",
          "name": "stdout",
          "text": [
            "Circle Area: 78.5\n",
            "Rectangle Area: 24\n"
          ]
        }
      ]
    },
    {
      "cell_type": "code",
      "source": [
        "# Implement a multi-level inheritance scenario where a class Vehicle has an attribute type. Derive a class Car\n",
        "#and further derive a class ElectricCar that adds a battery attribute.\n",
        "# Correcting class syntax and indentation\n",
        "class Vehicle:\n",
        "    def __init__(self, type):\n",
        "        self.type = type\n",
        "\n",
        "class Car(Vehicle):\n",
        "    def __init__(self, type, model):\n",
        "        super().__init__(type)\n",
        "        self.model = model\n",
        "\n",
        "class ElectricCar(Car):\n",
        "    def __init__(self, vehicle_type, model, battery):\n",
        "        super().__init__(vehicle_type, model)  # Calling the constructor of Car\n",
        "        self.battery = battery\n",
        "\n",
        "# Creating an instance of ElectricCar\n",
        "my_electric_car = ElectricCar(\"Electric\", \"Tesla\", \"1000kWh\")\n",
        "\n",
        "# Printing the attributes\n",
        "print(my_electric_car.type, my_electric_car.model, my_electric_car.battery)\n",
        "\n"
      ],
      "metadata": {
        "colab": {
          "base_uri": "https://localhost:8080/"
        },
        "id": "-Q_n_0lZQiti",
        "outputId": "632e1da1-b184-4f04-8bd2-e167aea683ec"
      },
      "execution_count": null,
      "outputs": [
        {
          "output_type": "stream",
          "name": "stdout",
          "text": [
            "Electric Tesla 1000kWh\n"
          ]
        }
      ]
    },
    {
      "cell_type": "code",
      "source": [
        "# Write a program to demonstrate encapsulation by creating a class BankAccount with private attributes\n",
        "#balance and methods to deposit, withdraw, and check balance\n",
        "class BankAccount:\n",
        "    def __init__(self, initial_balance=0):\n",
        "        self.__balance = initial_balance  # Private attribute\n",
        "\n",
        "    def deposit(self, amount):\n",
        "        if amount > 0:\n",
        "            self.__balance += amount\n",
        "            print(f\"Deposited: {amount}\")\n",
        "        else:\n",
        "            print(\"Deposit amount must be positive.\")\n",
        "\n",
        "    def withdraw(self, amount):\n",
        "        if 0 < amount <= self.__balance:\n",
        "            self.__balance -= amount\n",
        "            print(f\"Withdrew: {amount}\")\n",
        "        else:\n",
        "            print(\"Insufficient funds or invalid amount.\")\n",
        "\n",
        "    def check_balance(self):\n",
        "        return f\"Current Balance: {self.__balance}\"\n",
        "account = BankAccount(100)\n",
        "\n",
        "# Performing transactions\n",
        "account.deposit(50)\n",
        "account.withdraw(30)\n",
        "print(account.check_balance())"
      ],
      "metadata": {
        "colab": {
          "base_uri": "https://localhost:8080/"
        },
        "id": "m8QHhfiPXfB_",
        "outputId": "9e67becb-2471-4d1e-94c6-49adc6105dd1"
      },
      "execution_count": null,
      "outputs": [
        {
          "output_type": "stream",
          "name": "stdout",
          "text": [
            "Deposited: 50\n",
            "Withdrew: 30\n",
            "Current Balance: 120\n"
          ]
        }
      ]
    },
    {
      "cell_type": "code",
      "source": [
        "# Demonstrate runtime polymorphism using a method play() in a base class Instrument. Derive classes Guitar\n",
        "#and Piano that implement their own version of play()\n",
        "\n",
        "class Instrument:\n",
        "    def play(self):\n",
        "        print(\"This instrument makes a sound\")\n",
        "\n",
        "class Guitar(Instrument):\n",
        "    def play(self):\n",
        "        print(\"The guitar makes a melody sound\")\n",
        "\n",
        "class Piano(Instrument):\n",
        "    def play(self):\n",
        "        print(\"The piano plays a tune\")\n",
        "instrument = Instrument()\n",
        "guitar = Guitar()\n",
        "piano = Piano()\n",
        "instrument.play()\n",
        "guitar.play()\n",
        "piano.play()\n"
      ],
      "metadata": {
        "colab": {
          "base_uri": "https://localhost:8080/"
        },
        "id": "sJUfLzaMtugc",
        "outputId": "688fe8ba-df5d-4826-de64-88e7fc3bb9a0"
      },
      "execution_count": null,
      "outputs": [
        {
          "output_type": "stream",
          "name": "stdout",
          "text": [
            "This instrument makes a sound\n",
            "The guitar makes a melody sound\n",
            "The piano plays a tune\n"
          ]
        }
      ]
    },
    {
      "cell_type": "code",
      "source": [
        "# Create a class MathOperations with a class method add_numbers() to add two numbers and a static\n",
        "#method subtract_numbers() to subtract two numbers\n",
        "\n",
        "class MathOperations:\n",
        "    @classmethod\n",
        "    def add_numbers(cls, a, b):\n",
        "        return a + b\n",
        "\n",
        "    @staticmethod\n",
        "    def subtract_numbers(a, b):\n",
        "        return a - b\n",
        "\n",
        "sum = MathOperations.add_numbers(10, 5)\n",
        "sub = MathOperations.subtract_numbers(10, 5)\n",
        "\n",
        "\n",
        "print(f\"Sum: {sum}\")\n",
        "print(f\"Difference: {sub}\")\n"
      ],
      "metadata": {
        "colab": {
          "base_uri": "https://localhost:8080/"
        },
        "id": "OYosPMW0ulvh",
        "outputId": "48ef08fb-4753-41d3-9bb4-0e20367de70e"
      },
      "execution_count": null,
      "outputs": [
        {
          "output_type": "stream",
          "name": "stdout",
          "text": [
            "Sum: 15\n",
            "Difference: 5\n"
          ]
        }
      ]
    },
    {
      "cell_type": "code",
      "source": [
        "# Implement a class Person with a class method to count the total number of persons created.\n",
        "\n",
        "class Person:\n",
        "\n",
        "    total_persons = 0\n",
        "\n",
        "    def __init__(self, name):\n",
        "        self.name = name\n",
        "\n",
        "        Person.total_persons += 1\n",
        "\n",
        "    @classmethod\n",
        "    def count_persons(cls):\n",
        "        return cls.total_persons\n",
        "\n",
        "# Creating instances of Person\n",
        "person1 = Person(\"Abc\")\n",
        "person2 = Person(\"def\")\n",
        "person3 = Person(\"ghij\")\n",
        "\n",
        "print(f\"Total persons created: {Person.count_persons()}\")\n",
        "\n"
      ],
      "metadata": {
        "colab": {
          "base_uri": "https://localhost:8080/"
        },
        "id": "UfiXNsV7u3Ik",
        "outputId": "18869c93-3f92-4cc1-dbfe-bd72751bdc06"
      },
      "execution_count": null,
      "outputs": [
        {
          "output_type": "stream",
          "name": "stdout",
          "text": [
            "Total persons created: 3\n"
          ]
        }
      ]
    },
    {
      "cell_type": "code",
      "source": [
        "#Write a class Fraction with attributes numerator and denominator. Override the str method to display the\n",
        "#fraction as \"numerator/denominator\".\n",
        "class Fraction:\n",
        "    def __init__(self,numerator,denominator):\n",
        "        self.numerator=numerator\n",
        "        self.denominator=denominator\n",
        "\n",
        "    def __str__(self):\n",
        "        return f\"{self.numerator}/{self.denominator}\"\n",
        "f1=Fraction(5,6)\n",
        "f2=Fraction(5,3)\n",
        "print(f1)\n",
        "print(f2)\n"
      ],
      "metadata": {
        "colab": {
          "base_uri": "https://localhost:8080/"
        },
        "id": "MFhq7uiZwjqy",
        "outputId": "045288a3-33b6-460d-c160-3f101ddc874a"
      },
      "execution_count": null,
      "outputs": [
        {
          "output_type": "stream",
          "name": "stdout",
          "text": [
            "5/6\n",
            "5/3\n"
          ]
        }
      ]
    },
    {
      "cell_type": "code",
      "source": [
        "# Demonstrate operator overloading by creating a class Vector and overriding the add method to add two vectors\n",
        "class Vector:\n",
        "    def __init__(self, x, y):\n",
        "        self.x = x\n",
        "        self.y = y\n",
        "\n",
        "    def __add__(self, other):\n",
        "\n",
        "        return Vector(self.x + other.x, self.y + other.y)\n",
        "\n",
        "    def __str__(self):\n",
        "\n",
        "        return f\"({self.x}, {self.y})\"\n",
        "\n",
        "\n",
        "v1 = Vector(5, 7)\n",
        "v2 = Vector(7, 8)\n",
        "\n",
        "new_vector = v1 + v2\n",
        "\n",
        "# Printing the vectors and the result\n",
        "print(f\"Vector1: {v1}\")\n",
        "print(f\"Vector2: {v2}\")\n",
        "print(f\"Result: {new_vector}\")\n"
      ],
      "metadata": {
        "colab": {
          "base_uri": "https://localhost:8080/"
        },
        "id": "ZXSB502uyuyy",
        "outputId": "e33e48b9-fca8-4bb6-be7f-35a8b20fec2a"
      },
      "execution_count": null,
      "outputs": [
        {
          "output_type": "stream",
          "name": "stdout",
          "text": [
            "Vector1: (5, 7)\n",
            "Vector2: (7, 8)\n",
            "Result: (12, 15)\n"
          ]
        }
      ]
    },
    {
      "cell_type": "code",
      "source": [
        "#Create a class Person with attributes name and age. Add a method greet() that prints \"Hello, my name is\n",
        "#{name} and I am {age} years old.\n",
        "class Person:\n",
        "    def __init__(self, name, age):\n",
        "        self.name = name\n",
        "        self.age = age\n",
        "\n",
        "    def greet(self):\n",
        "        print(f\"Hello, my name is {self.name} and I am {self.age} years old.\")\n",
        "\n",
        "# Creating an instance of Person\n",
        "person1 = Person(\"Shahid\", 25)\n",
        "\n",
        "# Calling the greet method\n",
        "person1.greet()\n"
      ],
      "metadata": {
        "colab": {
          "base_uri": "https://localhost:8080/"
        },
        "id": "cQM-7QwS0oTW",
        "outputId": "834f2060-ca48-4cb6-e996-5615e8dbf93f"
      },
      "execution_count": null,
      "outputs": [
        {
          "output_type": "stream",
          "name": "stdout",
          "text": [
            "Hello, my name is Shahid and I am 25 years old.\n"
          ]
        }
      ]
    },
    {
      "cell_type": "code",
      "source": [
        "#. Create a class Product with attributes name, price, and quantity. Implement a method total_price() that\n",
        "#calculates the total price of the product\n",
        "class Product:\n",
        "    def __init__(self, name, price, quantity):\n",
        "        self.name = name\n",
        "        self.price = price\n",
        "        self.quantity = quantity\n",
        "\n",
        "    def total_price(self):\n",
        "        # Calculate the total price of the product\n",
        "        return self.price * self.quantity\n",
        "\n",
        "# Creating an instance of Product\n",
        "product1 = Product(\"Laptop\", 1000, 3)\n",
        "\n",
        "# Calculating and printing the total price\n",
        "print(f\"Total price of {product1.name}: {product1.total_price()}\")\n"
      ],
      "metadata": {
        "colab": {
          "base_uri": "https://localhost:8080/"
        },
        "id": "yKXyFZ_w1x-8",
        "outputId": "792036de-999e-48b4-c8b5-83c3ab60e077"
      },
      "execution_count": null,
      "outputs": [
        {
          "output_type": "stream",
          "name": "stdout",
          "text": [
            "Total price of Laptop: 3000\n"
          ]
        }
      ]
    },
    {
      "cell_type": "code",
      "source": [
        "# Create a class Book with attributes title, author, and year_published. Add a method get_book_info() that\n",
        "#returns a formatted string with the book's details\n",
        "class Book:\n",
        "    def __init__(self, title, author, year_published):\n",
        "        self.title = title\n",
        "        self.author = author\n",
        "        self.year_published = year_published\n",
        "\n",
        "    def get_book_info(self):\n",
        "\n",
        "        return f\"'{self.title}' by {self.author}, published in {self.year_published}\"\n",
        "\n",
        "# Creating an instance of Book\n",
        "book1 = Book(\"Python\", \"abc\", 2000)\n",
        "\n",
        "print(book1.get_book_info())\n"
      ],
      "metadata": {
        "colab": {
          "base_uri": "https://localhost:8080/"
        },
        "id": "UvT5-iR432YE",
        "outputId": "38ad6884-b852-4414-b7aa-eaa9da86082f"
      },
      "execution_count": null,
      "outputs": [
        {
          "output_type": "stream",
          "name": "stdout",
          "text": [
            "'Python' by abc, published in 2000\n"
          ]
        }
      ]
    },
    {
      "cell_type": "code",
      "source": [
        "#Create a class House with attributes address and price. Create a derived class Mansion that adds an\n",
        "#attribute number_of_rooms.\n",
        "\n",
        "class House:\n",
        "    def __init__(self, address, price):\n",
        "        self.address = address\n",
        "        self.price = price\n",
        "\n",
        "    def get_info(self):\n",
        "        return f\"Address: {self.address}, Price: ${self.price}\"\n",
        "\n",
        "class Mansion(House):\n",
        "    def __init__(self, address, price, number_of_rooms):\n",
        "        # Calling the parent class constructor\n",
        "        super().__init__(address, price)\n",
        "        self.number_of_rooms = number_of_rooms\n",
        "\n",
        "    def get_mansion_info(self):\n",
        "        return f\"{self.get_info()}, Number of Rooms: {self.number_of_rooms}\"\n",
        "\n",
        "# Creating an instance of Mansion\n",
        "mansion1 = Mansion(\"123 Luxury St\", 5000000, 10)\n",
        "\n",
        "# Printing the mansion info\n",
        "print(mansion1.get_mansion_info())\n"
      ],
      "metadata": {
        "id": "0NMQMt8G4R5Z",
        "colab": {
          "base_uri": "https://localhost:8080/"
        },
        "outputId": "3fced8b2-987f-4d88-af00-dc464e973d79"
      },
      "execution_count": 33,
      "outputs": [
        {
          "output_type": "stream",
          "name": "stdout",
          "text": [
            "Address: 123 Luxury St, Price: $5000000, Number of Rooms: 10\n"
          ]
        }
      ]
    }
  ]
}